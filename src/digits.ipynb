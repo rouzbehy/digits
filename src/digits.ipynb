{
 "cells": [
  {
   "cell_type": "markdown",
   "id": "00400038-e94f-4f19-a47d-eb6701aa3e03",
   "metadata": {},
   "source": [
    "# Digits\n",
    "This is my notebook for playing around with the MNIST digits data set. The data set is a collection of $70000$, $28\\times 28$ greyscale images of handwritten images. "
   ]
  },
  {
   "cell_type": "code",
   "execution_count": 1,
   "id": "c86849ce-1c08-4f21-b4d1-3eb7abfd61ec",
   "metadata": {},
   "outputs": [],
   "source": [
    "%matplotlib inline"
   ]
  },
  {
   "cell_type": "code",
   "execution_count": 2,
   "id": "7b0a794b-cb8d-4d48-bf3f-512085cd1c59",
   "metadata": {},
   "outputs": [],
   "source": [
    "import tensorflow as tf\n",
    "import matplotlib.pyplot as plt\n",
    "import numpy as np\n",
    "import seaborn as sb\n",
    "import random"
   ]
  },
  {
   "cell_type": "code",
   "execution_count": 3,
   "id": "5650a316-7c89-4de4-9973-e58437b0ed9a",
   "metadata": {},
   "outputs": [],
   "source": [
    "(x_train, y_train), (x_test, y_test) = tf.keras.datasets.mnist.load_data()\n",
    "# reshape dataset to have a single channel\n",
    "x_train = x_train.reshape((x_train.shape[0], 28, 28, 1))\n",
    "x_test = x_test.reshape((x_test.shape[0], 28, 28, 1))\n",
    "\n",
    "# one hot encode target values\n",
    "y_train_cat = tf.keras.utils.to_categorical(y_train)\n",
    "y_test_cat  = tf.keras.utils.to_categorical(y_test)\n",
    "# normalize xvalues\n",
    "x_train = x_train.astype('float32') / 255.\n",
    "x_test  = x_test.astype('float32') / 255."
   ]
  },
  {
   "cell_type": "markdown",
   "id": "a1ef5898-3714-4405-abeb-e7f924088c9d",
   "metadata": {},
   "source": [
    "Now plot a few examples:"
   ]
  },
  {
   "cell_type": "code",
   "execution_count": 4,
   "id": "785f2191-2590-44c1-9e58-b7eff2e5d731",
   "metadata": {},
   "outputs": [
    {
     "data": {
      "image/png": "[encoded data removed]",
      "text/plain": [
       "<Figure size 640x480 with 4 Axes>"
      ]
     },
     "metadata": {},
     "output_type": "display_data"
    }
   ],
   "source": [
    "fig, axes = plt.subplots(1, 4)\n",
    "for i, j in enumerate(random.sample(range(60000), 4)):\n",
    "    axes[i].imshow(x_train[j], cmap='Greys')\n",
    "    axes[i].set_title(f\"label:{y_train[j]}\")"
   ]
  },
  {
   "cell_type": "code",
   "execution_count": 8,
   "id": "a5e3cd76-f5e0-4c69-9dba-ddd97a2e7184",
   "metadata": {},
   "outputs": [],
   "source": [
    "# Build a sequential model. Since I will experiment with hyperparameter \n",
    "## optimization, encapsule this action into a function\n",
    "tf.keras.backend.clear_session()\n",
    "def create_uncompiled_model():\n",
    "    model = tf.keras.Sequential([\n",
    "        tf.keras.layers.Conv2D(filters=32, kernel_size=(3,3), input_shape=(28,28,1)),\n",
    "        tf.keras.layers.MaxPool2D(),\n",
    "        tf.keras.layers.Dropout(0.2),\n",
    "        tf.keras.layers.Conv2D(filters=16, kernel_size=(3,3)), \n",
    "        tf.keras.layers.Flatten(),\n",
    "        tf.keras.layers.Dense(128, activation='sigmoid'),\n",
    "        tf.keras.layers.Dropout(0.1),\n",
    "        tf.keras.layers.Dense(10, activation='softmax')\n",
    "    ])\n",
    "    return model"
   ]
  },
  {
   "cell_type": "code",
   "execution_count": 9,
   "id": "d2e33164-cd1e-43f6-a2c7-c1e1b630fcec",
   "metadata": {},
   "outputs": [
    {
     "name": "stdout",
     "output_type": "stream",
     "text": [
      "Model: \"sequential\"\n",
      "_________________________________________________________________\n",
      " Layer (type)                Output Shape              Param #   \n",
      "=================================================================\n",
      " conv2d (Conv2D)             (None, 26, 26, 32)        320       \n",
      "                                                                 \n",
      " max_pooling2d (MaxPooling2  (None, 13, 13, 32)        0         \n",
      " D)                                                              \n",
      "                                                                 \n",
      " dropout (Dropout)           (None, 13, 13, 32)        0         \n",
      "                                                                 \n",
      " conv2d_1 (Conv2D)           (None, 11, 11, 16)        4624      \n",
      "                                                                 \n",
      " flatten (Flatten)           (None, 1936)              0         \n",
      "                                                                 \n",
      " dense (Dense)               (None, 128)               247936    \n",
      "                                                                 \n",
      " dropout_1 (Dropout)         (None, 128)               0         \n",
      "                                                                 \n",
      " dense_1 (Dense)             (None, 10)                1290      \n",
      "                                                                 \n",
      "=================================================================\n",
      "Total params: 254170 (992.85 KB)\n",
      "Trainable params: 254170 (992.85 KB)\n",
      "Non-trainable params: 0 (0.00 Byte)\n",
      "_________________________________________________________________\n"
     ]
    }
   ],
   "source": [
    "tf.keras.backend.clear_session()\n",
    "model = create_uncompiled_model()\n",
    "model.compile(optimizer=tf.keras.optimizers.legacy.Adam(),\n",
    "              loss='categorical_crossentropy',\n",
    "              metrics=['accuracy'])\n",
    "model.summary()"
   ]
  },
  {
   "cell_type": "code",
   "execution_count": 10,
   "id": "dbc4d948-a8af-4eda-857d-8ebcba31ec4f",
   "metadata": {},
   "outputs": [
    {
     "name": "stdout",
     "output_type": "stream",
     "text": [
      "Epoch 1/40\n",
      "844/844 [==============================] - 12s 13ms/step - loss: 0.3249 - accuracy: 0.9081 - val_loss: 0.1428 - val_accuracy: 0.9638\n",
      "Epoch 2/40\n",
      "844/844 [==============================] - 11s 13ms/step - loss: 0.1509 - accuracy: 0.9567 - val_loss: 0.0897 - val_accuracy: 0.9762\n",
      "Epoch 3/40\n",
      "844/844 [==============================] - 11s 13ms/step - loss: 0.0974 - accuracy: 0.9719 - val_loss: 0.0642 - val_accuracy: 0.9838\n",
      "Epoch 4/40\n",
      "844/844 [==============================] - 11s 13ms/step - loss: 0.0726 - accuracy: 0.9796 - val_loss: 0.0558 - val_accuracy: 0.9868\n",
      "Epoch 5/40\n",
      "844/844 [==============================] - 11s 13ms/step - loss: 0.0586 - accuracy: 0.9826 - val_loss: 0.0505 - val_accuracy: 0.9872\n",
      "Epoch 6/40\n",
      "844/844 [==============================] - 11s 13ms/step - loss: 0.0489 - accuracy: 0.9859 - val_loss: 0.0457 - val_accuracy: 0.9885\n",
      "Epoch 7/40\n",
      "844/844 [==============================] - 11s 13ms/step - loss: 0.0439 - accuracy: 0.9871 - val_loss: 0.0443 - val_accuracy: 0.9880\n",
      "Epoch 8/40\n",
      "844/844 [==============================] - 11s 13ms/step - loss: 0.0388 - accuracy: 0.9889 - val_loss: 0.0442 - val_accuracy: 0.9880\n",
      "Epoch 9/40\n",
      "844/844 [==============================] - 11s 13ms/step - loss: 0.0345 - accuracy: 0.9895 - val_loss: 0.0403 - val_accuracy: 0.9887\n",
      "Epoch 10/40\n",
      "844/844 [==============================] - 12s 15ms/step - loss: 0.0303 - accuracy: 0.9907 - val_loss: 0.0441 - val_accuracy: 0.9888\n",
      "Epoch 11/40\n",
      "844/844 [==============================] - 12s 14ms/step - loss: 0.0274 - accuracy: 0.9918 - val_loss: 0.0377 - val_accuracy: 0.9903\n",
      "Epoch 12/40\n",
      "844/844 [==============================] - 10s 12ms/step - loss: 0.0244 - accuracy: 0.9924 - val_loss: 0.0406 - val_accuracy: 0.9885\n",
      "Epoch 13/40\n",
      "844/844 [==============================] - 11s 13ms/step - loss: 0.0226 - accuracy: 0.9936 - val_loss: 0.0384 - val_accuracy: 0.9893\n",
      "Epoch 14/40\n",
      "844/844 [==============================] - 11s 13ms/step - loss: 0.0234 - accuracy: 0.9925 - val_loss: 0.0357 - val_accuracy: 0.9905\n",
      "Epoch 15/40\n",
      "844/844 [==============================] - 11s 13ms/step - loss: 0.0210 - accuracy: 0.9933 - val_loss: 0.0434 - val_accuracy: 0.9888\n",
      "Epoch 16/40\n",
      "844/844 [==============================] - 11s 13ms/step - loss: 0.0195 - accuracy: 0.9937 - val_loss: 0.0357 - val_accuracy: 0.9895\n",
      "Epoch 17/40\n",
      "844/844 [==============================] - 11s 13ms/step - loss: 0.0180 - accuracy: 0.9945 - val_loss: 0.0408 - val_accuracy: 0.9882\n",
      "Epoch 18/40\n",
      "844/844 [==============================] - 11s 13ms/step - loss: 0.0185 - accuracy: 0.9938 - val_loss: 0.0367 - val_accuracy: 0.9915\n",
      "Epoch 19/40\n",
      "844/844 [==============================] - 11s 13ms/step - loss: 0.0152 - accuracy: 0.9958 - val_loss: 0.0405 - val_accuracy: 0.9890\n",
      "Epoch 20/40\n",
      "844/844 [==============================] - 11s 13ms/step - loss: 0.0157 - accuracy: 0.9953 - val_loss: 0.0375 - val_accuracy: 0.9900\n",
      "Epoch 21/40\n",
      "844/844 [==============================] - 11s 13ms/step - loss: 0.0144 - accuracy: 0.9956 - val_loss: 0.0369 - val_accuracy: 0.9900\n",
      "Epoch 22/40\n",
      "844/844 [==============================] - 11s 13ms/step - loss: 0.0150 - accuracy: 0.9951 - val_loss: 0.0428 - val_accuracy: 0.9888\n",
      "Epoch 23/40\n",
      "844/844 [==============================] - 11s 13ms/step - loss: 0.0127 - accuracy: 0.9960 - val_loss: 0.0419 - val_accuracy: 0.9897\n",
      "Epoch 24/40\n",
      "844/844 [==============================] - 11s 13ms/step - loss: 0.0128 - accuracy: 0.9961 - val_loss: 0.0374 - val_accuracy: 0.9905\n",
      "Epoch 25/40\n",
      "844/844 [==============================] - 11s 13ms/step - loss: 0.0135 - accuracy: 0.9958 - val_loss: 0.0374 - val_accuracy: 0.9905\n",
      "Epoch 26/40\n",
      "844/844 [==============================] - 11s 13ms/step - loss: 0.0126 - accuracy: 0.9960 - val_loss: 0.0414 - val_accuracy: 0.9892\n"
     ]
    }
   ],
   "source": [
    "# callback = tf.keras.callbacks.LearningRateScheduler(lambda epoch: 0.1 * np.exp(-epoch/20))\n",
    "early_stopping_callback = tf.keras.callbacks.EarlyStopping(monitor='val_loss',\n",
    "                                                           patience=10,\n",
    "                                                           mode='auto',\n",
    "                                                           restore_best_weights=True)\n",
    "hist = model.fit(x_train, y_train_cat, \n",
    "                    epochs=40,\n",
    "                    validation_split=0.1,\n",
    "                    batch_size=64,\n",
    "                    callbacks=[early_stopping_callback]\n",
    "                   )"
   ]
  },
  {
   "cell_type": "code",
   "execution_count": 11,
   "id": "4a16d3c6-27d2-41e2-9c1c-5608d7dc060e",
   "metadata": {},
   "outputs": [
    {
     "data": {
      "text/plain": [
       "<matplotlib.legend.Legend at 0x2cac60490>"
      ]
     },
     "execution_count": 11,
     "metadata": {},
     "output_type": "execute_result"
    },
    {
     "data": {
      "image/png": "[encoded data removed]",
      "text/plain": [
       "<Figure size 1000x600 with 2 Axes>"
      ]
     },
     "metadata": {},
     "output_type": "display_data"
    }
   ],
   "source": [
    "fig, axes = plt.subplots(1,2, figsize=(10, 6), gridspec_kw={'hspace':0.2})\n",
    "axes[0].plot(hist.history['loss'], color='red', label='loss')\n",
    "axes[0].plot(hist.history['val_loss'], color='blue', label='validation loss')\n",
    "axes[0].set_xlabel('epoch')\n",
    "axes[0].legend(loc='best')\n",
    "axes[1].plot(hist.history['accuracy'], color='red', label='accuracy')\n",
    "axes[1].plot(hist.history['val_accuracy'], color='blue', label='validation accuracy')\n",
    "axes[1].set_xlabel('epoch')\n",
    "axes[1].legend(loc='best')"
   ]
  },
  {
   "cell_type": "code",
   "execution_count": 12,
   "id": "88c7dd0e-1a3a-4807-bb12-45a149029e73",
   "metadata": {},
   "outputs": [
    {
     "name": "stdout",
     "output_type": "stream",
     "text": [
      "313/313 [==============================] - 1s 2ms/step\n"
     ]
    }
   ],
   "source": [
    "predictions = model.predict(x_test)"
   ]
  },
  {
   "cell_type": "code",
   "execution_count": 13,
   "id": "d0d580cd-2cfe-4536-906e-390d3d80dbe5",
   "metadata": {},
   "outputs": [
    {
     "data": {
      "text/plain": [
       "array([2.8746104e-08, 4.8242878e-06, 3.8263531e-07, 4.7946310e-06,\n",
       "       2.6001696e-09, 1.4176085e-09, 6.7362142e-13, 9.9998832e-01,\n",
       "       2.3012032e-09, 1.6985923e-06], dtype=float32)"
      ]
     },
     "execution_count": 13,
     "metadata": {},
     "output_type": "execute_result"
    }
   ],
   "source": [
    "predictions[0]"
   ]
  },
  {
   "cell_type": "code",
   "execution_count": 14,
   "id": "fd8708b1-1d42-4f94-a30b-cc948bde1032",
   "metadata": {},
   "outputs": [],
   "source": [
    "acc = tf.keras.losses.CategoricalCrossentropy()\n",
    "accuracy = acc(y_test_cat, predictions).numpy()"
   ]
  },
  {
   "cell_type": "code",
   "execution_count": 15,
   "id": "abad642d-8d75-4777-8d50-a01dd568eb81",
   "metadata": {},
   "outputs": [
    {
     "name": "stdout",
     "output_type": "stream",
     "text": [
      "predicted: 8, real: 3\n",
      "predicted: 5, real: 9\n",
      "predicted: 4, real: 9\n",
      "predicted: 6, real: 4\n",
      "predicted: 7, real: 2\n",
      "predicted: 0, real: 6\n",
      "predicted: 8, real: 9\n",
      "predicted: 8, real: 5\n",
      "predicted: 9, real: 4\n",
      "predicted: 9, real: 7\n",
      "predicted: 7, real: 9\n",
      "predicted: 5, real: 3\n",
      "predicted: 7, real: 2\n",
      "predicted: 0, real: 2\n",
      "predicted: 9, real: 8\n",
      "predicted: 5, real: 6\n",
      "predicted: 2, real: 7\n",
      "predicted: 8, real: 6\n",
      "predicted: 7, real: 4\n",
      "predicted: 1, real: 6\n",
      "predicted: 5, real: 6\n",
      "predicted: 2, real: 7\n",
      "predicted: 5, real: 9\n",
      "predicted: 1, real: 7\n",
      "predicted: 0, real: 8\n",
      "predicted: 6, real: 2\n",
      "predicted: 6, real: 5\n",
      "predicted: 3, real: 5\n",
      "predicted: 9, real: 7\n",
      "predicted: 7, real: 8\n",
      "predicted: 6, real: 4\n",
      "predicted: 5, real: 9\n",
      "predicted: 6, real: 0\n",
      "predicted: 7, real: 3\n",
      "predicted: 3, real: 9\n",
      "predicted: 7, real: 2\n",
      "predicted: 3, real: 8\n",
      "predicted: 4, real: 9\n",
      "predicted: 3, real: 5\n",
      "predicted: 9, real: 7\n",
      "predicted: 7, real: 3\n",
      "predicted: 0, real: 6\n",
      "predicted: 2, real: 9\n",
      "predicted: 9, real: 4\n",
      "predicted: 1, real: 6\n",
      "predicted: 0, real: 9\n",
      "predicted: 3, real: 5\n",
      "predicted: 4, real: 9\n",
      "predicted: 4, real: 9\n",
      "predicted: 5, real: 6\n",
      "predicted: 0, real: 2\n",
      "predicted: 4, real: 2\n",
      "predicted: 3, real: 5\n",
      "predicted: 2, real: 7\n",
      "predicted: 1, real: 6\n",
      "predicted: 4, real: 9\n",
      "predicted: 3, real: 5\n",
      "predicted: 0, real: 8\n",
      "predicted: 5, real: 9\n",
      "predicted: 8, real: 6\n",
      "predicted: 7, real: 9\n",
      "predicted: 2, real: 1\n",
      "predicted: 9, real: 8\n",
      "predicted: 0, real: 6\n",
      "predicted: 9, real: 7\n",
      "predicted: 9, real: 6\n",
      "predicted: 8, real: 3\n",
      "predicted: 0, real: 5\n",
      "predicted: 8, real: 9\n",
      "predicted: 9, real: 4\n",
      "predicted: 0, real: 6\n",
      "predicted: 8, real: 6\n",
      "predicted: 2, real: 7\n",
      "predicted: 8, real: 2\n",
      "predicted: 4, real: 9\n",
      "predicted: 2, real: 6\n",
      "predicted: 2, real: 1\n",
      "predicted: 4, real: 9\n",
      "predicted: 1, real: 7\n",
      "predicted: 8, real: 6\n",
      "predicted: 6, real: 0\n",
      "predicted: 7, real: 2\n",
      "predicted: 8, real: 2\n",
      "predicted: 7, real: 2\n",
      "predicted: 4, real: 9\n",
      "predicted: 7, real: 8\n",
      "predicted: 5, real: 6\n",
      "predicted: 8, real: 6\n",
      "predicted: 7, real: 8\n",
      "predicted: 5, real: 3\n",
      "predicted: 0, real: 6\n",
      "predicted: 4, real: 9\n",
      "predicted: 9, real: 4\n",
      "predicted: 6, real: 1\n",
      "predicted: 9, real: 7\n",
      "predicted: 8, real: 2\n",
      "predicted: 0, real: 7\n",
      "predicted: 3, real: 5\n",
      "predicted: 8, real: 3\n",
      "predicted: 5, real: 3\n",
      "predicted: 3, real: 9\n",
      "predicted: 9, real: 8\n",
      "predicted: 7, real: 9\n",
      "predicted: 1, real: 7\n",
      "predicted: 7, real: 0\n",
      "predicted: 2, real: 8\n",
      "predicted: 6, real: 1\n",
      "predicted: 6, real: 0\n",
      "predicted: 2, real: 3\n",
      "predicted: 4, real: 2\n",
      "predicted: 8, real: 2\n",
      "predicted: 6, real: 8\n",
      "predicted: 2, real: 7\n",
      "predicted: 2, real: 7\n",
      "predicted: 2, real: 7\n",
      "predicted: 2, real: 7\n",
      "predicted: 4, real: 9\n",
      "predicted: 7, real: 9\n",
      "predicted: 7, real: 2\n",
      "predicted: 2, real: 6\n",
      "predicted: 5, real: 6\n",
      "predicted: 6, real: 5\n",
      "predicted: 7, real: 9\n",
      "predicted: 6, real: 5\n",
      "predicted: 0, real: 5\n",
      "predicted: 7, real: 2\n",
      "predicted: 4, real: 2\n",
      "predicted: 2, real: 3\n"
     ]
    }
   ],
   "source": [
    "indices_missed = []\n",
    "for iy, ypred in enumerate(predictions):\n",
    "    pred_label = np.argmax(ypred)\n",
    "    if pred_label != y_test[iy]:\n",
    "        print(f\"predicted: {pred_label}, real: {y_test[iy]}\")\n",
    "        indices_missed.append(iy)\n"
   ]
  },
  {
   "cell_type": "code",
   "execution_count": 16,
   "id": "76d6597b-b1c3-450d-bad1-8ec382b3934f",
   "metadata": {},
   "outputs": [
    {
     "data": {
      "image/png": "[encoded data removed]",
      "text/plain": [
       "<Figure size 640x480 with 8 Axes>"
      ]
     },
     "metadata": {},
     "output_type": "display_data"
    }
   ],
   "source": [
    "num_numbers = 8\n",
    "fig, axes = plt.subplots(1, num_numbers)\n",
    "for i, j in enumerate(random.sample(indices_missed, num_numbers)):\n",
    "    prediction = np.argmax(predictions[j])\n",
    "    axes[i].imshow(x_test[j], cmap='Greys')\n",
    "    axes[i].set_title(f\"{y_test[j]} vs {prediction}\")"
   ]
  },
  {
   "cell_type": "markdown",
   "id": "08ec4b53-ddde-4bde-8248-9b55c7a1bfaf",
   "metadata": {},
   "source": [
    "The accuracy on the test set is:"
   ]
  },
  {
   "cell_type": "code",
   "execution_count": 17,
   "id": "c6a91114-cf37-4635-902b-e4d4fc5425d4",
   "metadata": {},
   "outputs": [
    {
     "data": {
      "text/plain": [
       "0.9872"
      ]
     },
     "execution_count": 17,
     "metadata": {},
     "output_type": "execute_result"
    }
   ],
   "source": [
    "1. - len(indices_missed)/len(y_test)"
   ]
  },
  {
   "cell_type": "code",
   "execution_count": 18,
   "id": "df0a3828-03cf-4898-b5a5-d465391314e6",
   "metadata": {},
   "outputs": [],
   "source": [
    "total_x = tf.concat([x_train, x_test], axis=0)\n",
    "total_y = tf.concat([y_train_cat, y_test_cat], axis=0)"
   ]
  },
  {
   "cell_type": "code",
   "execution_count": 19,
   "id": "0f2c3646-25e9-46c7-809e-02034cd1c12f",
   "metadata": {},
   "outputs": [
    {
     "name": "stdout",
     "output_type": "stream",
     "text": [
      "Epoch 1/40\n",
      "1094/1094 [==============================] - 13s 12ms/step - loss: 0.0301 - accuracy: 0.9909\n",
      "Epoch 2/40\n",
      "1094/1094 [==============================] - 14s 13ms/step - loss: 0.0254 - accuracy: 0.9919\n",
      "Epoch 3/40\n",
      "1094/1094 [==============================] - 13s 12ms/step - loss: 0.0231 - accuracy: 0.9926\n",
      "Epoch 4/40\n",
      "1094/1094 [==============================] - 13s 12ms/step - loss: 0.0195 - accuracy: 0.9937\n",
      "Epoch 5/40\n",
      "1094/1094 [==============================] - 13s 12ms/step - loss: 0.0197 - accuracy: 0.9935\n",
      "Epoch 6/40\n",
      "1094/1094 [==============================] - 13s 12ms/step - loss: 0.0189 - accuracy: 0.9938\n",
      "Epoch 7/40\n",
      "1094/1094 [==============================] - 13s 12ms/step - loss: 0.0166 - accuracy: 0.9947\n",
      "Epoch 8/40\n",
      "1094/1094 [==============================] - 13s 12ms/step - loss: 0.0170 - accuracy: 0.9947\n",
      "Epoch 9/40\n",
      "1094/1094 [==============================] - 13s 12ms/step - loss: 0.0165 - accuracy: 0.9949\n",
      "Epoch 10/40\n",
      "1094/1094 [==============================] - 13s 12ms/step - loss: 0.0156 - accuracy: 0.9953\n",
      "Epoch 11/40\n",
      "1094/1094 [==============================] - 13s 12ms/step - loss: 0.0156 - accuracy: 0.9950\n",
      "Epoch 12/40\n",
      "1094/1094 [==============================] - 13s 12ms/step - loss: 0.0143 - accuracy: 0.9953\n",
      "Epoch 13/40\n",
      "1094/1094 [==============================] - 13s 12ms/step - loss: 0.0139 - accuracy: 0.9954\n",
      "Epoch 14/40\n",
      "1094/1094 [==============================] - 13s 12ms/step - loss: 0.0147 - accuracy: 0.9950\n",
      "Epoch 15/40\n",
      "1094/1094 [==============================] - 13s 12ms/step - loss: 0.0137 - accuracy: 0.9954\n",
      "Epoch 16/40\n",
      "1094/1094 [==============================] - 13s 12ms/step - loss: 0.0121 - accuracy: 0.9961\n",
      "Epoch 17/40\n",
      "1094/1094 [==============================] - 13s 12ms/step - loss: 0.0136 - accuracy: 0.9954\n",
      "Epoch 18/40\n",
      "1094/1094 [==============================] - 13s 12ms/step - loss: 0.0129 - accuracy: 0.9957\n",
      "Epoch 19/40\n",
      "1094/1094 [==============================] - 13s 12ms/step - loss: 0.0126 - accuracy: 0.9959\n",
      "Epoch 20/40\n",
      "1094/1094 [==============================] - 13s 12ms/step - loss: 0.0127 - accuracy: 0.9957\n",
      "Epoch 21/40\n",
      "1094/1094 [==============================] - 13s 12ms/step - loss: 0.0123 - accuracy: 0.9958\n",
      "Epoch 22/40\n",
      "1094/1094 [==============================] - 13s 12ms/step - loss: 0.0149 - accuracy: 0.9950\n",
      "Epoch 23/40\n",
      "1094/1094 [==============================] - 13s 12ms/step - loss: 0.0120 - accuracy: 0.9961\n",
      "Epoch 24/40\n",
      "1094/1094 [==============================] - 13s 12ms/step - loss: 0.0122 - accuracy: 0.9960\n",
      "Epoch 25/40\n",
      "1094/1094 [==============================] - 13s 12ms/step - loss: 0.0120 - accuracy: 0.9961\n",
      "Epoch 26/40\n",
      "1094/1094 [==============================] - 13s 12ms/step - loss: 0.0114 - accuracy: 0.9962\n",
      "Epoch 27/40\n",
      "1094/1094 [==============================] - 13s 12ms/step - loss: 0.0116 - accuracy: 0.9960\n",
      "Epoch 28/40\n",
      "1094/1094 [==============================] - 13s 12ms/step - loss: 0.0124 - accuracy: 0.9962\n",
      "Epoch 29/40\n",
      "1094/1094 [==============================] - 13s 12ms/step - loss: 0.0126 - accuracy: 0.9958\n",
      "Epoch 30/40\n",
      "1094/1094 [==============================] - 13s 12ms/step - loss: 0.0122 - accuracy: 0.9957\n",
      "Epoch 31/40\n",
      "1094/1094 [==============================] - 13s 12ms/step - loss: 0.0108 - accuracy: 0.9964\n",
      "Epoch 32/40\n",
      "1094/1094 [==============================] - 13s 12ms/step - loss: 0.0096 - accuracy: 0.9971\n",
      "Epoch 33/40\n",
      "1094/1094 [==============================] - 13s 12ms/step - loss: 0.0114 - accuracy: 0.9962\n",
      "Epoch 34/40\n",
      "1094/1094 [==============================] - 13s 12ms/step - loss: 0.0121 - accuracy: 0.9957\n",
      "Epoch 35/40\n",
      "1094/1094 [==============================] - 13s 12ms/step - loss: 0.0110 - accuracy: 0.9962\n",
      "Epoch 36/40\n",
      "1094/1094 [==============================] - 13s 12ms/step - loss: 0.0118 - accuracy: 0.9959\n",
      "Epoch 37/40\n",
      "1094/1094 [==============================] - 13s 12ms/step - loss: 0.0122 - accuracy: 0.9957\n",
      "Epoch 38/40\n",
      "1094/1094 [==============================] - 13s 12ms/step - loss: 0.0112 - accuracy: 0.9963\n",
      "Epoch 39/40\n",
      "1094/1094 [==============================] - 13s 12ms/step - loss: 0.0101 - accuracy: 0.9966\n",
      "Epoch 40/40\n",
      "1094/1094 [==============================] - 13s 12ms/step - loss: 0.0113 - accuracy: 0.9963\n"
     ]
    }
   ],
   "source": [
    "early_stopping_callback = tf.keras.callbacks.EarlyStopping(monitor='accuracy',\n",
    "                                                           patience=10,\n",
    "                                                           mode='auto',\n",
    "                                                           restore_best_weights=True)\n",
    "final_hist = model.fit(total_x, total_y, \n",
    "                    epochs=40,\n",
    "                    #validation_split=0.1,\n",
    "                    batch_size=64,\n",
    "                    callbacks=[early_stopping_callback]\n",
    "                   )"
   ]
  },
  {
   "cell_type": "code",
   "execution_count": 20,
   "id": "7bc1c36c-21d4-4f20-884d-37acfa64f7f9",
   "metadata": {},
   "outputs": [],
   "source": [
    "model.save('./my_mnist_model.keras')"
   ]
  },
  {
   "cell_type": "code",
   "execution_count": null,
   "id": "5e88f0a9-b538-4491-ab93-9bc62ee95a27",
   "metadata": {},
   "outputs": [],
   "source": []
  }
 ],
 "metadata": {
  "kernelspec": {
   "display_name": "Python 3 (ipykernel)",
   "language": "python",
   "name": "python3"
  },
  "language_info": {
   "codemirror_mode": {
    "name": "ipython",
    "version": 3
   },
   "file_extension": ".py",
   "mimetype": "text/x-python",
   "name": "python",
   "nbconvert_exporter": "python",
   "pygments_lexer": "ipython3",
   "version": "3.11.0"
  }
 },
 "nbformat": 4,
 "nbformat_minor": 5
}
